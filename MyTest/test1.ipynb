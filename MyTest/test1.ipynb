{
 "cells": [
  {
   "cell_type": "code",
   "execution_count": 1,
   "metadata": {},
   "outputs": [
    {
     "name": "stderr",
     "output_type": "stream",
     "text": [
      "C:\\Users\\uib07707\\AppData\\Local\\Packages\\PythonSoftwareFoundation.Python.3.10_qbz5n2kfra8p0\\LocalCache\\local-packages\\Python310\\site-packages\\akshare\\futures\\futures_roll_yield.py:38: UserWarning: 20180618非交易日\n",
      "  warnings.warn(\"%s非交易日\" % date.strftime(\"%Y%m%d\"))\n"
     ]
    },
    {
     "name": "stdout",
     "output_type": "stream",
     "text": [
      "第1次链接失败, 最多尝试 20 次\n"
     ]
    }
   ],
   "source": [
    "import akshare as ak\n",
    "\n",
    "get_roll_yield_bar_df = ak.get_roll_yield_bar(type_method=\"date\", var=\"RB\", start_day=\"20180618\", end_day=\"20180718\")\n",
    "print(get_roll_yield_bar_df)"
   ]
  },
  {
   "cell_type": "code",
   "execution_count": null,
   "metadata": {},
   "outputs": [],
   "source": [
    "import akshare as ak\n",
    "\n",
    "stock_sse_summary_df = ak.stock_sse_summary()\n",
    "print(stock_sse_summary_df)"
   ]
  },
  {
   "cell_type": "code",
   "execution_count": null,
   "metadata": {},
   "outputs": [],
   "source": []
  }
 ],
 "metadata": {
  "kernelspec": {
   "display_name": "Python 3",
   "language": "python",
   "name": "python3"
  },
  "language_info": {
   "codemirror_mode": {
    "name": "ipython",
    "version": 3
   },
   "file_extension": ".py",
   "mimetype": "text/x-python",
   "name": "python",
   "nbconvert_exporter": "python",
   "pygments_lexer": "ipython3",
   "version": "3.10.11"
  }
 },
 "nbformat": 4,
 "nbformat_minor": 2
}
